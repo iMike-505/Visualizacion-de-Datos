{
 "cells": [
  {
   "cell_type": "code",
   "execution_count": 1,
   "id": "6472eb7f",
   "metadata": {
    "_cell_guid": "b1076dfc-b9ad-4769-8c92-a6c4dae69d19",
    "_uuid": "8f2839f25d086af736a60e9eeb907d3b93b6e0e5",
    "execution": {
     "iopub.execute_input": "2023-04-21T04:08:16.741884Z",
     "iopub.status.busy": "2023-04-21T04:08:16.741168Z",
     "iopub.status.idle": "2023-04-21T04:08:17.878461Z",
     "shell.execute_reply": "2023-04-21T04:08:17.877248Z"
    },
    "papermill": {
     "duration": 1.145821,
     "end_time": "2023-04-21T04:08:17.881610",
     "exception": false,
     "start_time": "2023-04-21T04:08:16.735789",
     "status": "completed"
    },
    "tags": []
   },
   "outputs": [],
   "source": [
    "import seaborn as sns\n",
    "import matplotlib.pyplot as plt"
   ]
  },
  {
   "cell_type": "code",
   "execution_count": 2,
   "id": "8c926542",
   "metadata": {
    "execution": {
     "iopub.execute_input": "2023-04-21T04:08:17.889136Z",
     "iopub.status.busy": "2023-04-21T04:08:17.887927Z",
     "iopub.status.idle": "2023-04-21T04:08:18.528153Z",
     "shell.execute_reply": "2023-04-21T04:08:18.526968Z"
    },
    "papermill": {
     "duration": 0.647373,
     "end_time": "2023-04-21T04:08:18.531708",
     "exception": false,
     "start_time": "2023-04-21T04:08:17.884335",
     "status": "completed"
    },
    "tags": []
   },
   "outputs": [
    {
     "data": {
      "text/html": [
       "<div>\n",
       "<style scoped>\n",
       "    .dataframe tbody tr th:only-of-type {\n",
       "        vertical-align: middle;\n",
       "    }\n",
       "\n",
       "    .dataframe tbody tr th {\n",
       "        vertical-align: top;\n",
       "    }\n",
       "\n",
       "    .dataframe thead th {\n",
       "        text-align: right;\n",
       "    }\n",
       "</style>\n",
       "<table border=\"1\" class=\"dataframe\">\n",
       "  <thead>\n",
       "    <tr style=\"text-align: right;\">\n",
       "      <th></th>\n",
       "      <th>total_bill</th>\n",
       "      <th>tip</th>\n",
       "      <th>sex</th>\n",
       "      <th>smoker</th>\n",
       "      <th>day</th>\n",
       "      <th>time</th>\n",
       "      <th>size</th>\n",
       "    </tr>\n",
       "  </thead>\n",
       "  <tbody>\n",
       "    <tr>\n",
       "      <th>0</th>\n",
       "      <td>16.99</td>\n",
       "      <td>1.01</td>\n",
       "      <td>Female</td>\n",
       "      <td>No</td>\n",
       "      <td>Sun</td>\n",
       "      <td>Dinner</td>\n",
       "      <td>2</td>\n",
       "    </tr>\n",
       "    <tr>\n",
       "      <th>1</th>\n",
       "      <td>10.34</td>\n",
       "      <td>1.66</td>\n",
       "      <td>Male</td>\n",
       "      <td>No</td>\n",
       "      <td>Sun</td>\n",
       "      <td>Dinner</td>\n",
       "      <td>3</td>\n",
       "    </tr>\n",
       "    <tr>\n",
       "      <th>2</th>\n",
       "      <td>21.01</td>\n",
       "      <td>3.50</td>\n",
       "      <td>Male</td>\n",
       "      <td>No</td>\n",
       "      <td>Sun</td>\n",
       "      <td>Dinner</td>\n",
       "      <td>3</td>\n",
       "    </tr>\n",
       "    <tr>\n",
       "      <th>3</th>\n",
       "      <td>23.68</td>\n",
       "      <td>3.31</td>\n",
       "      <td>Male</td>\n",
       "      <td>No</td>\n",
       "      <td>Sun</td>\n",
       "      <td>Dinner</td>\n",
       "      <td>2</td>\n",
       "    </tr>\n",
       "    <tr>\n",
       "      <th>4</th>\n",
       "      <td>24.59</td>\n",
       "      <td>3.61</td>\n",
       "      <td>Female</td>\n",
       "      <td>No</td>\n",
       "      <td>Sun</td>\n",
       "      <td>Dinner</td>\n",
       "      <td>4</td>\n",
       "    </tr>\n",
       "  </tbody>\n",
       "</table>\n",
       "</div>"
      ],
      "text/plain": [
       "   total_bill   tip     sex smoker  day    time  size\n",
       "0       16.99  1.01  Female     No  Sun  Dinner     2\n",
       "1       10.34  1.66    Male     No  Sun  Dinner     3\n",
       "2       21.01  3.50    Male     No  Sun  Dinner     3\n",
       "3       23.68  3.31    Male     No  Sun  Dinner     2\n",
       "4       24.59  3.61  Female     No  Sun  Dinner     4"
      ]
     },
     "execution_count": 2,
     "metadata": {},
     "output_type": "execute_result"
    }
   ],
   "source": [
    "tips = sns.load_dataset('tips')\n",
    "tips.head()"
   ]
  },
  {
   "cell_type": "code",
   "execution_count": 3,
   "id": "057c881b",
   "metadata": {
    "execution": {
     "iopub.execute_input": "2023-04-21T04:08:18.538744Z",
     "iopub.status.busy": "2023-04-21T04:08:18.538342Z",
     "iopub.status.idle": "2023-04-21T04:08:18.551365Z",
     "shell.execute_reply": "2023-04-21T04:08:18.550200Z"
    },
    "papermill": {
     "duration": 0.019269,
     "end_time": "2023-04-21T04:08:18.553811",
     "exception": false,
     "start_time": "2023-04-21T04:08:18.534542",
     "status": "completed"
    },
    "tags": []
   },
   "outputs": [
    {
     "data": {
      "text/html": [
       "<div>\n",
       "<style scoped>\n",
       "    .dataframe tbody tr th:only-of-type {\n",
       "        vertical-align: middle;\n",
       "    }\n",
       "\n",
       "    .dataframe tbody tr th {\n",
       "        vertical-align: top;\n",
       "    }\n",
       "\n",
       "    .dataframe thead th {\n",
       "        text-align: right;\n",
       "    }\n",
       "</style>\n",
       "<table border=\"1\" class=\"dataframe\">\n",
       "  <thead>\n",
       "    <tr style=\"text-align: right;\">\n",
       "      <th></th>\n",
       "      <th>total_bill</th>\n",
       "      <th>tip</th>\n",
       "      <th>size</th>\n",
       "    </tr>\n",
       "  </thead>\n",
       "  <tbody>\n",
       "    <tr>\n",
       "      <th>total_bill</th>\n",
       "      <td>1.000000</td>\n",
       "      <td>0.675734</td>\n",
       "      <td>0.598315</td>\n",
       "    </tr>\n",
       "    <tr>\n",
       "      <th>tip</th>\n",
       "      <td>0.675734</td>\n",
       "      <td>1.000000</td>\n",
       "      <td>0.489299</td>\n",
       "    </tr>\n",
       "    <tr>\n",
       "      <th>size</th>\n",
       "      <td>0.598315</td>\n",
       "      <td>0.489299</td>\n",
       "      <td>1.000000</td>\n",
       "    </tr>\n",
       "  </tbody>\n",
       "</table>\n",
       "</div>"
      ],
      "text/plain": [
       "            total_bill       tip      size\n",
       "total_bill    1.000000  0.675734  0.598315\n",
       "tip           0.675734  1.000000  0.489299\n",
       "size          0.598315  0.489299  1.000000"
      ]
     },
     "execution_count": 3,
     "metadata": {},
     "output_type": "execute_result"
    }
   ],
   "source": [
    "# Correlación entre variables\n",
    "tips.corr()"
   ]
  },
  {
   "cell_type": "code",
   "execution_count": 4,
   "id": "4484870c",
   "metadata": {
    "execution": {
     "iopub.execute_input": "2023-04-21T04:08:18.561472Z",
     "iopub.status.busy": "2023-04-21T04:08:18.560748Z",
     "iopub.status.idle": "2023-04-21T04:08:18.830956Z",
     "shell.execute_reply": "2023-04-21T04:08:18.829763Z"
    },
    "papermill": {
     "duration": 0.276973,
     "end_time": "2023-04-21T04:08:18.833644",
     "exception": false,
     "start_time": "2023-04-21T04:08:18.556671",
     "status": "completed"
    },
    "tags": []
   },
   "outputs": [
    {
     "data": {
      "text/plain": [
       "<AxesSubplot:>"
      ]
     },
     "execution_count": 4,
     "metadata": {},
     "output_type": "execute_result"
    },
    {
     "data": {
      "image/png": "[encoded data removed]",
      "text/plain": [
       "<Figure size 640x480 with 2 Axes>"
      ]
     },
     "metadata": {},
     "output_type": "display_data"
    }
   ],
   "source": [
    "# Heatmap\n",
    "sns.heatmap(tips.corr())"
   ]
  },
  {
   "cell_type": "markdown",
   "id": "b127d600",
   "metadata": {
    "papermill": {
     "duration": 0.00295,
     "end_time": "2023-04-21T04:08:18.840027",
     "exception": false,
     "start_time": "2023-04-21T04:08:18.837077",
     "status": "completed"
    },
    "tags": []
   },
   "source": [
    "Se pueden agregar diferentes parámetros\n",
    "* annot muestra el calor de la correlación\n",
    "* cmap color\n",
    "* linewidths espacio entre variables\n",
    "* linecolor color de las líneas\n",
    "* vminv - max valores máximos y mínimos\n",
    "* cbar = False elimina la barra"
   ]
  },
  {
   "cell_type": "code",
   "execution_count": 5,
   "id": "b3db9be3",
   "metadata": {
    "execution": {
     "iopub.execute_input": "2023-04-21T04:08:18.848365Z",
     "iopub.status.busy": "2023-04-21T04:08:18.847542Z",
     "iopub.status.idle": "2023-04-21T04:08:18.986327Z",
     "shell.execute_reply": "2023-04-21T04:08:18.984926Z"
    },
    "papermill": {
     "duration": 0.146074,
     "end_time": "2023-04-21T04:08:18.989206",
     "exception": false,
     "start_time": "2023-04-21T04:08:18.843132",
     "status": "completed"
    },
    "tags": []
   },
   "outputs": [
    {
     "data": {
      "image/png": "[encoded data removed]",
      "text/plain": [
       "<Figure size 640x480 with 1 Axes>"
      ]
     },
     "metadata": {},
     "output_type": "display_data"
    }
   ],
   "source": [
    "sns.heatmap(tips.corr(), annot= True, cmap='coolwarm', linewidths=5, linecolor='black', vmin=0.5,vmax=1,cbar=False);"
   ]
  }
 ],
 "metadata": {
  "kernelspec": {
   "display_name": "Python 3",
   "language": "python",
   "name": "python3"
  },
  "language_info": {
   "codemirror_mode": {
    "name": "ipython",
    "version": 3
   },
   "file_extension": ".py",
   "mimetype": "text/x-python",
   "name": "python",
   "nbconvert_exporter": "python",
   "pygments_lexer": "ipython3",
   "version": "3.7.12"
  },
  "papermill": {
   "default_parameters": {},
   "duration": 13.011606,
   "end_time": "2023-04-21T04:08:19.715946",
   "environment_variables": {},
   "exception": null,
   "input_path": "__notebook__.ipynb",
   "output_path": "__notebook__.ipynb",
   "parameters": {},
   "start_time": "2023-04-21T04:08:06.704340",
   "version": "2.4.0"
  }
 },
 "nbformat": 4,
 "nbformat_minor": 5
}
